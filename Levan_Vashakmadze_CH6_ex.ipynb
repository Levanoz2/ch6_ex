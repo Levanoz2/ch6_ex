{
  "cells": [
    {
      "cell_type": "code",
      "source": [
        "person = {\n",
        "  \"first_name\": \"Ala\",\n",
        "  \"last_name\": \"Pugachova\",\n",
        "  \"age\": \"80\",\n",
        "  \"city\": \"Moscow\"\n",
        "}\n",
        "print(person)"
      ],
      "metadata": {
        "id": "D9EPMTbeZR4k",
        "outputId": "43a8d876-68e7-44f1-cb84-a2294c1beb6d",
        "colab": {
          "base_uri": "https://localhost:8080/"
        }
      },
      "execution_count": null,
      "outputs": [
        {
          "output_type": "stream",
          "name": "stdout",
          "text": [
            "{'first_name': 'Ala', 'last_name': 'Pugachova', 'age': '80', 'city': 'Moscow'}\n"
          ]
        }
      ]
    },
    {
      "cell_type": "markdown",
      "source": [
        "6-2"
      ],
      "metadata": {
        "id": "jfGCS-eiZuMs"
      }
    },
    {
      "cell_type": "code",
      "source": [
        "favorite_numbers = {\n",
        "  \"Ala\": \"11\",\n",
        "  \"chib\": \"15\",\n",
        "  \"jupiter\": \"66\",\n",
        "  \"levanoz\": \"22\"\n",
        "}\n",
        "print(favorite_numbers)"
      ],
      "metadata": {
        "id": "HSimksOUZ6Fr",
        "outputId": "2e87a607-2ede-477e-9fe5-f3be76871e93",
        "colab": {
          "base_uri": "https://localhost:8080/"
        }
      },
      "execution_count": null,
      "outputs": [
        {
          "output_type": "stream",
          "name": "stdout",
          "text": [
            "{'Ala': '11', 'chib': '15', 'jupiter': '66', 'levanoz': '22'}\n"
          ]
        }
      ]
    },
    {
      "cell_type": "markdown",
      "source": [
        "6-3"
      ],
      "metadata": {
        "id": "EsILPUYlankA"
      }
    },
    {
      "cell_type": "code",
      "source": [
        "python_glossary = {\n",
        "    \"Python_Comments\": \"A Python comment is a line of text in a program that is not executed by the interpreter\",\n",
        "    \"Python Strings\": \"A string in Python is a sequence of characters.\",\n",
        "    \"Python Dictionaries\": \"A collection of key-value pairs.\",\n",
        "    \"Python For Loops\": \"kooping means repeating something over and over until a particular condition is satisfied.\",\n",
        "    \"Python list\": \"A collection of items in a particular order.\"\n",
        "}\n",
        "print(python_glossary)"
      ],
      "metadata": {
        "id": "2d-UxYNjapj0",
        "outputId": "dbc5d9e6-e8b3-432a-d6ee-80f897e3acd7",
        "colab": {
          "base_uri": "https://localhost:8080/"
        }
      },
      "execution_count": null,
      "outputs": [
        {
          "output_type": "stream",
          "name": "stdout",
          "text": [
            "{'Python_Comments': 'A Python comment is a line of text in a program that is not executed by the interpreter', 'Python Strings': 'A string in Python is a sequence of characters.', 'Python Dictionaries': 'A collection of key-value pairs.', 'Python For Loops': 'kooping means repeating something over and over until a particular condition is satisfied.', 'Python list': 'A collection of items in a particular order.'}\n"
          ]
        }
      ]
    },
    {
      "cell_type": "markdown",
      "source": [
        "# New section"
      ],
      "metadata": {
        "id": "G_N-_JmbcAkk"
      }
    },
    {
      "cell_type": "markdown",
      "source": [
        "ch6.4+++"
      ],
      "metadata": {
        "id": "AnMvxfj7cI-a"
      }
    },
    {
      "cell_type": "code",
      "source": [
        "python_glossary = {\n",
        "    \"Python_Comments\": \"A Python comment is a line of text in a program that is not executed by the interpreter\",\n",
        "    \"Python Strings\": \"A string in Python is a sequence of characters.\",\n",
        "    \"Python Dictionaries\": \"A collection of key-value pairs.\",\n",
        "    \"Python For Loops\": \"kooping means repeating something over and over until a particular condition is satisfied.\",\n",
        "    \"Python list\": \"A collection of items in a particular order.\"\n",
        "}\n",
        "print(python_glossary)\n",
        "  print(\"The following glossaries have been mentioned:\")\n",
        "for glossary in (python_glossary.values()):\n",
        "    print(glossary.title())\n",
        "    ????????"
      ],
      "metadata": {
        "colab": {
          "base_uri": "https://localhost:8080/",
          "height": 131
        },
        "id": "Lnd5EyNWceC5",
        "outputId": "63f1decb-4bec-4199-cffe-8ecab3d72681"
      },
      "execution_count": null,
      "outputs": [
        {
          "output_type": "error",
          "ename": "IndentationError",
          "evalue": "ignored",
          "traceback": [
            "\u001b[0;36m  File \u001b[0;32m\"<ipython-input-5-82928037539f>\"\u001b[0;36m, line \u001b[0;32m9\u001b[0m\n\u001b[0;31m    print(\"The following glossaries have been mentioned:\")\u001b[0m\n\u001b[0m    ^\u001b[0m\n\u001b[0;31mIndentationError\u001b[0m\u001b[0;31m:\u001b[0m unexpected indent\n"
          ]
        }
      ]
    },
    {
      "cell_type": "code",
      "source": [
        "rivers = {\n",
        "    \"nile\": \"Egypt\",\n",
        "    \"amazon\": \"Brazil\",\n",
        "    \"mtkvari\": \"Tbilisi\",\n",
        "}\n",
        "\n",
        "for river, location in rivers.items():\n",
        "    print(\"The \" + river.title() + \" runs throgh \" + location.title())\n",
        "\n",
        "for river in rivers.keys():\n",
        "    print(\"This is the name of river>>>\" + river.title())\n",
        "for location in rivers.values():\n",
        "    print(\"Location: \" + location.title())\n"
      ],
      "metadata": {
        "colab": {
          "base_uri": "https://localhost:8080/"
        },
        "id": "U-DXOgANc9Tt",
        "outputId": "b1c8cf55-e727-43b0-c6af-64e10762cd30"
      },
      "execution_count": null,
      "outputs": [
        {
          "output_type": "stream",
          "name": "stdout",
          "text": [
            "The Nile runs throgh Egypt\n",
            "The Amazon runs throgh Brazil\n",
            "The Mtkvari runs throgh Tbilisi\n",
            "This is the name of river>>>Nile\n",
            "This is the name of river>>>Amazon\n",
            "This is the name of river>>>Mtkvari\n",
            "Location: Egypt\n",
            "Location: Brazil\n",
            "Location: Tbilisi\n"
          ]
        }
      ]
    },
    {
      "cell_type": "markdown",
      "source": [
        "# New section"
      ],
      "metadata": {
        "id": "Oa0OgC4Cf5mU"
      }
    },
    {
      "cell_type": "code",
      "source": [
        "favorite_languages = {\n",
        "    \"ala\": \"java\",\n",
        "    \"chib\": \"C+=\",\n",
        "    \"jupiter\": \"C# \" \"CSS\",\n",
        "    \"levanoz\": \"ruby\",\n",
        "}\n",
        "for name, language in favorite_languages.items():\n",
        "    print(name.title() + \"'s favorite language is \" + language.title()+ \".\")\n"
      ],
      "metadata": {
        "colab": {
          "base_uri": "https://localhost:8080/"
        },
        "id": "CSKdrjEUf6NH",
        "outputId": "55fe5270-a112-4f56-c696-d08988e247f9"
      },
      "execution_count": null,
      "outputs": [
        {
          "output_type": "stream",
          "name": "stdout",
          "text": [
            "Ala's favorite language is Java.\n",
            "Chib's favorite language is C+=.\n",
            "Jupiter's favorite language is C# Css.\n",
            "Levanoz's favorite language is Ruby.\n"
          ]
        }
      ]
    }
  ],
  "metadata": {
    "colab": {
      "collapsed_sections": [],
      "name": "Levan_Vashakmadze_CH6_ex",
      "toc_visible": true,
      "provenance": []
    },
    "kernelspec": {
      "display_name": "Python 3",
      "name": "python3"
    }
  },
  "nbformat": 4,
  "nbformat_minor": 0
}